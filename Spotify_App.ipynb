{
 "cells": [
  {
   "cell_type": "code",
   "execution_count": 1,
   "metadata": {},
   "outputs": [
    {
     "data": {
      "text/html": [
       "<div>\n",
       "<style scoped>\n",
       "    .dataframe tbody tr th:only-of-type {\n",
       "        vertical-align: middle;\n",
       "    }\n",
       "\n",
       "    .dataframe tbody tr th {\n",
       "        vertical-align: top;\n",
       "    }\n",
       "\n",
       "    .dataframe thead th {\n",
       "        text-align: right;\n",
       "    }\n",
       "</style>\n",
       "<table border=\"1\" class=\"dataframe\">\n",
       "  <thead>\n",
       "    <tr style=\"text-align: right;\">\n",
       "      <th></th>\n",
       "      <th>songname</th>\n",
       "      <th>artist</th>\n",
       "      <th>genre</th>\n",
       "    </tr>\n",
       "  </thead>\n",
       "  <tbody>\n",
       "    <tr>\n",
       "      <th>0</th>\n",
       "      <td>Hello</td>\n",
       "      <td>Adele</td>\n",
       "      <td>Pop</td>\n",
       "    </tr>\n",
       "  </tbody>\n",
       "</table>\n",
       "</div>"
      ],
      "text/plain": [
       "  songname artist genre\n",
       "0    Hello  Adele   Pop"
      ]
     },
     "execution_count": 1,
     "metadata": {},
     "output_type": "execute_result"
    }
   ],
   "source": [
    "import pandas as pd\n",
    "\n",
    "playlist = []\n",
    "def add_songs(playlist_name, songname, artist, genre):\n",
    "    song_to_add = {'songname': songname, 'artist': artist, 'genre':genre}\n",
    "    playlist_name.append(song_to_add)\n",
    "    return playlist_name\n",
    "    \n",
    "def delete_songs(playlist_name, songname):\n",
    "    for i in range(len(playlist_name)):\n",
    "        if playlist_name[i]['songname']  == songname:\n",
    "            del playlist_name[i]\n",
    "            print('song successfully removed from playlist')\n",
    "            return playlist_name  \n",
    "        else:\n",
    "            print('Song is not in the Playlist')\n",
    "\n",
    "def show_playlist(playlist_name):\n",
    "    playlist_df = pd.DataFrame(playlist_name)\n",
    "    return playlist_df\n",
    "            \n",
    "add_songs(playlist, 'Hello', 'Adele', 'Pop')\n",
    "#delete_songs(playlist, 'Hello')\n",
    "show_playlist(playlist)\n",
    "            \n"
   ]
  }
 ],
 "metadata": {
  "kernelspec": {
   "display_name": ".venv",
   "language": "python",
   "name": "python3"
  },
  "language_info": {
   "codemirror_mode": {
    "name": "ipython",
    "version": 3
   },
   "file_extension": ".py",
   "mimetype": "text/x-python",
   "name": "python",
   "nbconvert_exporter": "python",
   "pygments_lexer": "ipython3",
   "version": "3.12.5"
  }
 },
 "nbformat": 4,
 "nbformat_minor": 2
}
